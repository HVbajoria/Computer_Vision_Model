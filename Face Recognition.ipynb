{
 "cells": [
  {
   "cell_type": "code",
   "execution_count": 1,
   "metadata": {},
   "outputs": [],
   "source": [
    "import cv2\n",
    "import matplotlib.pyplot as plt\n",
    "import numpy as np\n",
    "import mediapipe as mp\n",
    "import face_recognition "
   ]
  },
  {
   "cell_type": "markdown",
   "metadata": {},
   "source": [
    "## Uploading  and Encoding Images"
   ]
  },
  {
   "cell_type": "code",
   "execution_count": 2,
   "metadata": {},
   "outputs": [],
   "source": [
    "image_robert=face_recognition.load_image_file('Robert_Downey1.jpg')\n",
    "image_encodings_robert=face_recognition.face_encodings(image_robert)[0]"
   ]
  },
  {
   "cell_type": "code",
   "execution_count": 3,
   "metadata": {},
   "outputs": [],
   "source": [
    "image_andy=face_recognition.load_image_file('Andy Jassy.jpeg')\n",
    "image_encodings_andy=face_recognition.face_encodings(image_andy)[0]"
   ]
  },
  {
   "cell_type": "code",
   "execution_count": 4,
   "metadata": {},
   "outputs": [],
   "source": [
    "image_bill=face_recognition.load_image_file('Bill Thomas.png')\n",
    "image_encodings_billt=face_recognition.face_encodings(image_bill)[0]"
   ]
  },
  {
   "cell_type": "code",
   "execution_count": 5,
   "metadata": {},
   "outputs": [],
   "source": [
    "image_bill=face_recognition.load_image_file('Bill Gates.png')\n",
    "image_encodings_billg=face_recognition.face_encodings(image_bill)[0]"
   ]
  },
  {
   "cell_type": "code",
   "execution_count": 6,
   "metadata": {},
   "outputs": [],
   "source": [
    "image_brian=face_recognition.load_image_file('Brian Chesky.jpeg')\n",
    "image_encodings_brian=face_recognition.face_encodings(image_brian)[0]"
   ]
  },
  {
   "cell_type": "code",
   "execution_count": 7,
   "metadata": {},
   "outputs": [],
   "source": [
    "image_chuck=face_recognition.load_image_file('Chuck Robbins.png')\n",
    "image_encodings_chuck=face_recognition.face_encodings(image_chuck)[0]"
   ]
  },
  {
   "cell_type": "code",
   "execution_count": 8,
   "metadata": {},
   "outputs": [],
   "source": [
    "image_daniel=face_recognition.load_image_file('Daniel Schulman.png')\n",
    "image_encodings_daniel=face_recognition.face_encodings(image_daniel)[0]"
   ]
  },
  {
   "cell_type": "code",
   "execution_count": 9,
   "metadata": {},
   "outputs": [],
   "source": [
    "image_elon=face_recognition.load_image_file('Elon Musk.png')\n",
    "image_encodings_elon=face_recognition.face_encodings(image_elon)[0]"
   ]
  },
  {
   "cell_type": "code",
   "execution_count": 10,
   "metadata": {},
   "outputs": [],
   "source": [
    "image_jackd=face_recognition.load_image_file('Jack Dorsey.jpeg')\n",
    "image_encodings_jackd=face_recognition.face_encodings(image_jackd)[0]"
   ]
  },
  {
   "cell_type": "code",
   "execution_count": 11,
   "metadata": {},
   "outputs": [],
   "source": [
    "image_jackm=face_recognition.load_image_file('Jack Ma.jpeg')\n",
    "image_encodings_jackm=face_recognition.face_encodings(image_jackm)[0]"
   ]
  },
  {
   "cell_type": "code",
   "execution_count": 12,
   "metadata": {},
   "outputs": [],
   "source": [
    "image_jeff=face_recognition.load_image_file('Jeff Bezos.jpeg')\n",
    "image_encodings_jeff=face_recognition.face_encodings(image_jeff)[0]"
   ]
  },
  {
   "cell_type": "code",
   "execution_count": 13,
   "metadata": {},
   "outputs": [],
   "source": [
    "image_keni=face_recognition.load_image_file('Kenichiro Yoshida.jpg')\n",
    "image_encodings_keni=face_recognition.face_encodings(image_keni)[0]"
   ]
  },
  {
   "cell_type": "code",
   "execution_count": 14,
   "metadata": {},
   "outputs": [],
   "source": [
    "image_larry=face_recognition.load_image_file('Larry Page.jpeg')\n",
    "image_encodings_larry=face_recognition.face_encodings(image_larry)[0]"
   ]
  },
  {
   "cell_type": "code",
   "execution_count": 15,
   "metadata": {},
   "outputs": [],
   "source": [
    "image_mark=face_recognition.load_image_file('Mark Zuckerberg.jpg')\n",
    "image_encodings_mark=face_recognition.face_encodings(image_mark)[0]"
   ]
  },
  {
   "cell_type": "code",
   "execution_count": 16,
   "metadata": {},
   "outputs": [],
   "source": [
    "image_michael=face_recognition.load_image_file('Michael S Dell.jpg')\n",
    "image_encodings_michael=face_recognition.face_encodings(image_michael)[0]"
   ]
  },
  {
   "cell_type": "code",
   "execution_count": 17,
   "metadata": {},
   "outputs": [],
   "source": [
    "image_randall=face_recognition.load_image_file('Randall L Stephenson.png')\n",
    "image_encodings_randall=face_recognition.face_encodings(image_randall)[0]"
   ]
  },
  {
   "cell_type": "code",
   "execution_count": 18,
   "metadata": {},
   "outputs": [],
   "source": [
    "image_sheryl=face_recognition.load_image_file('Sheryl Sandberg.jpeg')\n",
    "image_encodings_sheryl=face_recognition.face_encodings(image_sheryl)[0]"
   ]
  },
  {
   "cell_type": "code",
   "execution_count": 19,
   "metadata": {},
   "outputs": [],
   "source": [
    "image_steve=face_recognition.load_image_file('Steve Jobs.jpg')\n",
    "image_encodings_steve=face_recognition.face_encodings(image_steve)[0]"
   ]
  },
  {
   "cell_type": "code",
   "execution_count": 20,
   "metadata": {},
   "outputs": [],
   "source": [
    "image_sundar=face_recognition.load_image_file('Sundar Pichai.png')\n",
    "image_encodings_sundar=face_recognition.face_encodings(image_sundar)[0]"
   ]
  },
  {
   "cell_type": "code",
   "execution_count": 21,
   "metadata": {},
   "outputs": [],
   "source": [
    "image_tim=face_recognition.load_image_file('Tim Cook.png')\n",
    "image_encodings_tim=face_recognition.face_encodings(image_tim)[0]"
   ]
  },
  {
   "cell_type": "code",
   "execution_count": 22,
   "metadata": {},
   "outputs": [],
   "source": [
    "image_bob=face_recognition.load_image_file('​Bob Swan.png')\n",
    "image_encodings_bob=face_recognition.face_encodings(image_bob)[0]"
   ]
  },
  {
   "cell_type": "code",
   "execution_count": 23,
   "metadata": {},
   "outputs": [],
   "source": [
    "image_daniel=face_recognition.load_image_file('Daniel Schulman.png')\n",
    "image_encodings_daniel=face_recognition.face_encodings(image_daniel)[0]"
   ]
  },
  {
   "cell_type": "code",
   "execution_count": 24,
   "metadata": {},
   "outputs": [],
   "source": [
    "image_ginni=face_recognition.load_image_file('​Ginni Rometty.jpg')\n",
    "image_encodings_ginni=face_recognition.face_encodings(image_ginni)[0]"
   ]
  },
  {
   "cell_type": "code",
   "execution_count": 25,
   "metadata": {},
   "outputs": [],
   "source": [
    "image_joe=face_recognition.load_image_file('​Joe Kaeser.jpg')\n",
    "image_encodings_joe=face_recognition.face_encodings(image_joe)[0]"
   ]
  },
  {
   "cell_type": "code",
   "execution_count": 26,
   "metadata": {},
   "outputs": [],
   "source": [
    "image_kazu=face_recognition.load_image_file('​Kazuhiro Tsuga.png')\n",
    "image_encodings_kazu=face_recognition.face_encodings(image_kazu)[0]"
   ]
  },
  {
   "cell_type": "code",
   "execution_count": 27,
   "metadata": {},
   "outputs": [],
   "source": [
    "image_robinl=face_recognition.load_image_file('​Robin Li.jpeg')\n",
    "image_encodings_robinl=face_recognition.face_encodings(image_robinl)[0]"
   ]
  },
  {
   "cell_type": "code",
   "execution_count": 28,
   "metadata": {},
   "outputs": [],
   "source": [
    "image_rajesh=face_recognition.load_image_file('​Rajesh Gopinathan.png')\n",
    "image_encodings_rajesh=face_recognition.face_encodings(image_rajesh)[0]"
   ]
  },
  {
   "cell_type": "code",
   "execution_count": 29,
   "metadata": {},
   "outputs": [],
   "source": [
    "image_test2=face_recognition.load_image_file('Satya_Nadella.jpeg')\n",
    "image_encodings_satya=face_recognition.face_encodings(image_test2)[0]"
   ]
  },
  {
   "cell_type": "code",
   "execution_count": 30,
   "metadata": {},
   "outputs": [],
   "source": [
    "my_image=face_recognition.load_image_file('My Photo (2).jpg')\n",
    "my_encoding=face_recognition.face_encodings(my_image)[0]"
   ]
  },
  {
   "cell_type": "markdown",
   "metadata": {},
   "source": [
    "## Face Recognition On Live Web Cam Feed"
   ]
  },
  {
   "cell_type": "code",
   "execution_count": 31,
   "metadata": {},
   "outputs": [],
   "source": [
    "video_capture = cv2.VideoCapture(0)\n",
    "known_face_encodings=[image_encodings_robert,image_encodings_satya,my_encoding,image_encodings_andy,image_encodings_billg,image_encodings_billt,image_encodings_brian,image_encodings_chuck,image_encodings_daniel,image_encodings_elon,image_encodings_jackd,image_encodings_jackm,image_encodings_jeff,image_encodings_keni,image_encodings_larry,image_encodings_mark,image_encodings_michael,image_encodings_randall,image_encodings_sheryl,image_encodings_steve,image_encodings_sundar,image_encodings_tim,image_encodings_bob,image_encodings_daniel,image_encodings_ginni,image_encodings_joe,image_encodings_kazu,image_encodings_rajesh,image_encodings_robert]\n",
    "known_face_names=[\"Robert Downey\",\"Satya Nadella\",\"Harshavardhan Bajoria\",\"Andy Jassy\",\"Bill Gates\",\"Bill Thomas\",\"Brian Chesky\",\"Chuck Robbins\",\"Daniel Schulman\",\"Elon Musk\",\"Jack Dorsey\",\"Jack Ma\",\"Jeff Bezos\",\"Kenichiro Yoshida\",\"Larry Page\",\"Mark Zuckerberg\",\"Michael S Dell\",\"Randall L Stephenson\",\"Sheryl Sandberg\",\"Steve Jobs\",\"Sundar Pichai\",\"Tim Cook\",\"Bob Swan\",\"Daniel Zhang\",\"Ginni Rometty\",\"Joe Kaeser\",\"Kazuhiro Tsuga\",\"Rajesh Gopinathan\",\"Robin Li\"]\n",
    "face_locations = []\n",
    "face_encodings = []\n",
    "face_names = []\n",
    "process_this_frame = True\n",
    "while True:\n",
    "    ret, frame = video_capture.read()\n",
    "    small_frame = cv2.resize(frame, (0, 0), fx=0.25, fy=0.25)\n",
    "    rgb_small_frame = small_frame[:, :, ::-1]\n",
    "    if process_this_frame:\n",
    "        face_locations = face_recognition.face_locations(rgb_small_frame)\n",
    "        face_encodings = face_recognition.face_encodings(rgb_small_frame, face_locations)\n",
    "        face_names = []\n",
    "        # Chceking if face matches with the data\n",
    "        for face_encoding in face_encodings:\n",
    "            matches = face_recognition.compare_faces(known_face_encodings, face_encoding)\n",
    "            name = \"Unknown\"\n",
    "            face_distances = face_recognition.face_distance(known_face_encodings, face_encoding)\n",
    "            best_match_index = np.argmin(face_distances)\n",
    "            if matches[best_match_index]:\n",
    "                name = known_face_names[best_match_index]\n",
    "            face_names.append(name)\n",
    "    process_this_frame = not process_this_frame\n",
    "    # To draw the frame\n",
    "    for (top, right, bottom, left), name in zip(face_locations, face_names):\n",
    "        top *= 4\n",
    "        right *= 4\n",
    "        bottom *= 4\n",
    "        left *= 4\n",
    "        cv2.rectangle(frame, (left, top), (right, bottom), (255, 255, 0), 2)\n",
    "        cv2.rectangle(frame, (left, bottom - 35), (right, bottom), (0, 0,255), cv2.FILLED)\n",
    "        # To put the text\n",
    "        font = cv2.FONT_HERSHEY_DUPLEX\n",
    "        cv2.putText(frame, name, (left + 6, bottom - 6), font,0.5, (255, 255, 255), 1)\n",
    "    cv2.imshow('Video', frame)\n",
    "    if cv2.waitKey(1) & 0xFF == ord('q'):\n",
    "        break\n",
    "video_capture.release()\n",
    "cv2.destroyAllWindows()"
   ]
  }
 ],
 "metadata": {
  "kernelspec": {
   "display_name": "Python 3",
   "language": "python",
   "name": "python3"
  },
  "language_info": {
   "codemirror_mode": {
    "name": "ipython",
    "version": 3
   },
   "file_extension": ".py",
   "mimetype": "text/x-python",
   "name": "python",
   "nbconvert_exporter": "python",
   "pygments_lexer": "ipython3",
   "version": "3.8.5"
  }
 },
 "nbformat": 4,
 "nbformat_minor": 4
}
